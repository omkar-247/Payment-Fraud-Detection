{
 "cells": [
  {
   "cell_type": "code",
   "execution_count": 1,
   "id": "bc76847a-2167-4452-a035-4a5c4e201a7d",
   "metadata": {},
   "outputs": [
    {
     "name": "stdout",
     "output_type": "stream",
     "text": [
      "   Time        V1        V2        V3        V4        V5        V6        V7  \\\n",
      "0   0.0 -1.359807 -0.072781  2.536347  1.378155 -0.338321  0.462388  0.239599   \n",
      "1   0.0  1.191857  0.266151  0.166480  0.448154  0.060018 -0.082361 -0.078803   \n",
      "2   1.0 -1.358354 -1.340163  1.773209  0.379780 -0.503198  1.800499  0.791461   \n",
      "3   1.0 -0.966272 -0.185226  1.792993 -0.863291 -0.010309  1.247203  0.237609   \n",
      "4   2.0 -1.158233  0.877737  1.548718  0.403034 -0.407193  0.095921  0.592941   \n",
      "\n",
      "         V8        V9  ...       V21       V22       V23       V24       V25  \\\n",
      "0  0.098698  0.363787  ... -0.018307  0.277838 -0.110474  0.066928  0.128539   \n",
      "1  0.085102 -0.255425  ... -0.225775 -0.638672  0.101288 -0.339846  0.167170   \n",
      "2  0.247676 -1.514654  ...  0.247998  0.771679  0.909412 -0.689281 -0.327642   \n",
      "3  0.377436 -1.387024  ... -0.108300  0.005274 -0.190321 -1.175575  0.647376   \n",
      "4 -0.270533  0.817739  ... -0.009431  0.798278 -0.137458  0.141267 -0.206010   \n",
      "\n",
      "        V26       V27       V28  Amount  Class  \n",
      "0 -0.189115  0.133558 -0.021053  149.62      0  \n",
      "1  0.125895 -0.008983  0.014724    2.69      0  \n",
      "2 -0.139097 -0.055353 -0.059752  378.66      0  \n",
      "3 -0.221929  0.062723  0.061458  123.50      0  \n",
      "4  0.502292  0.219422  0.215153   69.99      0  \n",
      "\n",
      "[5 rows x 31 columns]\n"
     ]
    }
   ],
   "source": [
    "import pandas as pd\n",
    "df = pd.read_csv(\"creditcard.csv\")\n",
    "print(df.head())"
   ]
  },
  {
   "cell_type": "code",
   "execution_count": 2,
   "id": "dba0d135-a0d8-45ae-abe2-b6805e0408b6",
   "metadata": {},
   "outputs": [
    {
     "name": "stdout",
     "output_type": "stream",
     "text": [
      "shape: (284807, 31)\n",
      "missing values: 0\n",
      "fraud count: Class\n",
      "0    284315\n",
      "1       492\n",
      "Name: count, dtype: int64\n"
     ]
    }
   ],
   "source": [
    "print(\"shape:\",df.shape)\n",
    "print(\"missing values:\",df.isnull().sum().sum())\n",
    "print(\"fraud count:\",df['Class'].value_counts())"
   ]
  },
  {
   "cell_type": "code",
   "execution_count": 3,
   "id": "ade03599-124f-4a45-a2c3-67432aa3a63a",
   "metadata": {},
   "outputs": [],
   "source": [
    "#visualize Data\n",
    "import matplotlib.pyplot as plt\n",
    "import seaborn as sns"
   ]
  },
  {
   "cell_type": "code",
   "execution_count": 4,
   "id": "f705ddda-c031-44c7-b283-314668a795b5",
   "metadata": {},
   "outputs": [
    {
     "data": {
      "image/png": "[encoded data removed]",
      "text/plain": [
       "<Figure size 640x480 with 1 Axes>"
      ]
     },
     "metadata": {},
     "output_type": "display_data"
    }
   ],
   "source": [
    "#Distribution of Amounts\n",
    "sns.histplot(df[\"Amount\"] , bins = 50)\n",
    "plt.title(\"Transaction Amount Distribution\")\n",
    "plt.show()"
   ]
  },
  {
   "cell_type": "code",
   "execution_count": 5,
   "id": "4464430d-ab69-46ca-a110-27781b4a3773",
   "metadata": {},
   "outputs": [
    {
     "name": "stdout",
     "output_type": "stream",
     "text": [
      "Class    1.000000\n",
      "V11      0.154876\n",
      "V4       0.133447\n",
      "V2       0.091289\n",
      "V21      0.040413\n",
      "V19      0.034783\n",
      "V20      0.020090\n",
      "V8       0.019875\n",
      "V27      0.017580\n",
      "V28      0.009536\n",
      "Name: Class, dtype: float64\n"
     ]
    }
   ],
   "source": [
    "# Correlation with Fraud\n",
    "correlation = df.corr()['Class'].sort_values(ascending=False)\n",
    "print(correlation.head(10))"
   ]
  },
  {
   "cell_type": "code",
   "execution_count": 6,
   "id": "137288f9-471e-4a8e-a579-0e85974af12c",
   "metadata": {},
   "outputs": [],
   "source": [
    "#Feature Engineering\n",
    "df['Hour'] = ((df['Time'] // 3600) % 24).astype(int)\n",
    "from sklearn.preprocessing import StandardScaler\n",
    "df['NormAmount'] = StandardScaler().fit_transform(df[['Amount']])\n",
    "df = df.drop(['Time', 'Amount'], axis=1)"
   ]
  },
  {
   "cell_type": "code",
   "execution_count": 7,
   "id": "bdf4ea01-ec1a-4cc5-acff-f4d2478304f2",
   "metadata": {},
   "outputs": [],
   "source": [
    "#Anomaly Detection\n",
    "from sklearn.ensemble import IsolationForest\n",
    "\n",
    "features = df.drop(['Class'], axis=1)\n",
    "\n",
    "# Fit the model\n",
    "iso = IsolationForest(contamination=0.002)  # 0.2% suspected fraud\n",
    "df['risk_score'] = iso.fit_predict(features)\n",
    "\n",
    "# Transform -1 to \"risky\", 1 to \"safe\"\n",
    "df['risk_score'] = df['risk_score'].apply(lambda x: 1 if x == -1 else 0)"
   ]
  },
  {
   "cell_type": "code",
   "execution_count": 10,
   "id": "feb3bd7e-6bb3-43dc-bce6-81664609c71d",
   "metadata": {},
   "outputs": [],
   "source": [
    "df[['NormAmount', 'Hour', 'risk_score', 'Class'] + list(df.columns[:5])].to_csv('fraud_scores.csv', index=False)"
   ]
  },
  {
   "cell_type": "code",
   "execution_count": null,
   "id": "bc7ea285-2a6f-478d-977f-413fcb8f4336",
   "metadata": {},
   "outputs": [],
   "source": []
  }
 ],
 "metadata": {
  "kernelspec": {
   "display_name": "Python 3 (ipykernel)",
   "language": "python",
   "name": "python3"
  },
  "language_info": {
   "codemirror_mode": {
    "name": "ipython",
    "version": 3
   },
   "file_extension": ".py",
   "mimetype": "text/x-python",
   "name": "python",
   "nbconvert_exporter": "python",
   "pygments_lexer": "ipython3",
   "version": "3.12.5"
  }
 },
 "nbformat": 4,
 "nbformat_minor": 5
}
